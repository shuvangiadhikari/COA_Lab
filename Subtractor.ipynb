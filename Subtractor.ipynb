{
 "cells": [
  {
   "cell_type": "code",
   "execution_count": 106,
   "id": "abd67a0d",
   "metadata": {},
   "outputs": [],
   "source": [
    "def AND(num1,num2):\n",
    "    if(num1=='1' and num2=='1'):\n",
    "        return '1'\n",
    "    else:\n",
    "        return '0'\n",
    "def OR(num1,num2):\n",
    "    if(num1=='1' or num2=='1'):\n",
    "        return '1'\n",
    "    else:\n",
    "        return '0'\n",
    "def XOR(num1,num2):\n",
    "    if(num1==num2):\n",
    "        return '0'\n",
    "    else:\n",
    "        return '1'"
   ]
  },
  {
   "cell_type": "code",
   "execution_count": 115,
   "id": "01f19db1",
   "metadata": {},
   "outputs": [
    {
     "name": "stdout",
     "output_type": "stream",
     "text": [
      "Enter the number of bits:8\n",
      "Enter the first number:110011\n",
      "Enter the second number:101001\n"
     ]
    }
   ],
   "source": [
    "n = int(input('Enter the number of bits:'))\n",
    "num_1=input('Enter the first number:')\n",
    "num_1=num_1.zfill(n)\n",
    "reverse_num1=num_1[::-1]\n",
    "num_2=input('Enter the second number:')\n",
    "num_2=num_2.zfill(n)\n",
    "reverse_num2=num_2[::-1]"
   ]
  },
  {
   "cell_type": "code",
   "execution_count": 116,
   "id": "a53e8b87",
   "metadata": {},
   "outputs": [
    {
     "name": "stdout",
     "output_type": "stream",
     "text": [
      "11010110\n"
     ]
    }
   ],
   "source": [
    "ones_comp=''\n",
    "for bit in num_2:\n",
    "    if bit=='0':\n",
    "        ones_comp+='1'\n",
    "    else:\n",
    "        ones_comp+='0'\n",
    "   \n",
    "print(ones_comp)\n",
    "ones_comp=ones_comp[::-1]\n",
    "      "
   ]
  },
  {
   "cell_type": "code",
   "execution_count": 117,
   "id": "1e96bd66",
   "metadata": {},
   "outputs": [],
   "source": [
    "def binaryAddition(num1, num2, n):\n",
    "    cin='0'\n",
    "    sum=''\n",
    "    \n",
    "    for i in range(0,n):\n",
    "        sum = sum + XOR(XOR(num1[i],num2[i]),cin)\n",
    "        intermediate_xor = XOR(num1[i], num2[i])\n",
    "        intermediate_and = AND(num1[i], num2[i])\n",
    "        cin = OR(intermediate_and, AND(intermediate_xor,cin))\n",
    "    sum=sum[::-1]\n",
    "    return sum"
   ]
  },
  {
   "cell_type": "code",
   "execution_count": 118,
   "id": "2be23422",
   "metadata": {},
   "outputs": [],
   "source": [
    "one='1'\n",
    "one=one.zfill(n)\n",
    "one = one[::-1]"
   ]
  },
  {
   "cell_type": "code",
   "execution_count": null,
   "id": "b8bd5c13",
   "metadata": {},
   "outputs": [],
   "source": []
  },
  {
   "cell_type": "code",
   "execution_count": 119,
   "id": "1e7b2e44",
   "metadata": {},
   "outputs": [
    {
     "name": "stdout",
     "output_type": "stream",
     "text": [
      "11010111\n"
     ]
    }
   ],
   "source": [
    "twos_comp = binaryAddition (ones_comp,one,n)\n",
    "print(twos_comp)"
   ]
  },
  {
   "cell_type": "code",
   "execution_count": 120,
   "id": "46f7da2d",
   "metadata": {},
   "outputs": [],
   "source": [
    "result= binaryAddition (reverse_num1, twos_comp[::-1], n)"
   ]
  },
  {
   "cell_type": "code",
   "execution_count": 121,
   "id": "766900f5",
   "metadata": {},
   "outputs": [
    {
     "name": "stdout",
     "output_type": "stream",
     "text": [
      " 00110011\n",
      "-00101001\n",
      "---------\n",
      " 00001010\n"
     ]
    }
   ],
   "source": [
    "print(' '+num_1)\n",
    "print('-'+num_2)\n",
    "print('-'*(n+1)) \n",
    "print(' '+result) "
   ]
  },
  {
   "cell_type": "code",
   "execution_count": null,
   "id": "138f9c6b",
   "metadata": {},
   "outputs": [],
   "source": []
  },
  {
   "cell_type": "code",
   "execution_count": null,
   "id": "84d058f8",
   "metadata": {},
   "outputs": [],
   "source": []
  }
 ],
 "metadata": {
  "kernelspec": {
   "display_name": "Python 3 (ipykernel)",
   "language": "python",
   "name": "python3"
  },
  "language_info": {
   "codemirror_mode": {
    "name": "ipython",
    "version": 3
   },
   "file_extension": ".py",
   "mimetype": "text/x-python",
   "name": "python",
   "nbconvert_exporter": "python",
   "pygments_lexer": "ipython3",
   "version": "3.10.9"
  }
 },
 "nbformat": 4,
 "nbformat_minor": 5
}
