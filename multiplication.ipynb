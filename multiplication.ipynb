{
 "cells": [
  {
   "cell_type": "code",
   "execution_count": 16,
   "id": "e01b6fd0",
   "metadata": {},
   "outputs": [],
   "source": [
    "def AND(num1,num2):\n",
    "    if(num1=='1' and num2=='1'):\n",
    "        return '1'\n",
    "    else:\n",
    "        return '0'\n",
    "def OR(num1,num2):\n",
    "    if(num1=='1' or num2=='1'):\n",
    "        return '1'\n",
    "    else:\n",
    "        return '0'\n",
    "def XOR(num1,num2):\n",
    "    if(num1==num2):\n",
    "        return '0'\n",
    "    else:\n",
    "        return '1'\n",
    "    "
   ]
  },
  {
   "cell_type": "code",
   "execution_count": 17,
   "id": "0e956a5b",
   "metadata": {},
   "outputs": [],
   "source": [
    "def addition(num1, num2, n):\n",
    "    num1 = num1.zfill(n)\n",
    "    num2 = num2.zfill(n)\n",
    "    reversed_num1 = num1[::-1]\n",
    "    reversed_num2 = num2[::-1]\n",
    "    cin = '0' # initial carry in = 0\n",
    "    SUM = ''\n",
    "    for i in range(n):\n",
    "        SUM = SUM + XOR(XOR(reversed_num1[i],reversed_num2[i]),cin)\n",
    "        intermediate_xor = XOR(reversed_num1[i], reversed_num2[i])\n",
    "        intermediate_and = AND(reversed_num1[i], reversed_num2[i])\n",
    "        cin = OR(intermediate_and, AND(intermediate_xor,cin))\n",
    "#     cin = OR(AND(reversed_num1[i],reversed_num2[i]),AND(XOR(reversed_num1[i],reversed_num2[i]),cin))\n",
    "\n",
    "    SUM = SUM[::-1]\n",
    "    return SUM, cin"
   ]
  },
  {
   "cell_type": "code",
   "execution_count": 18,
   "id": "248a48d2",
   "metadata": {},
   "outputs": [
    {
     "name": "stdout",
     "output_type": "stream",
     "text": [
      "Enter the number of bits: 4\n",
      "Enter the Multiplicand: 11\n",
      "M = 0011\n",
      "Enter the Multiplier: 1010\n",
      "Q = 1010\n",
      "A = 0000\n"
     ]
    }
   ],
   "source": [
    "n = int(input(\"Enter the number of bits: \"))\n",
    "#--------------------------------------------------------------------\n",
    "M = input(\"Enter the Multiplicand: \")\n",
    "M = M.zfill(n)\n",
    "print(f\"M = {M}\")\n",
    "#--------------------------------------------------------------------\n",
    "Q = input(\"Enter the Multiplier: \")\n",
    "Q = Q.zfill(n)\n",
    "print(f\"Q = {Q}\")\n",
    "#--------------------------------------------------------------------\n",
    "A = '0'\n",
    "A = A.zfill(n)\n",
    "print(f\"A = {A}\")"
   ]
  },
  {
   "cell_type": "code",
   "execution_count": 19,
   "id": "ffd603ec",
   "metadata": {},
   "outputs": [],
   "source": [
    "def right_shift(inp, c='0'):\n",
    "    inp = c + inp[:-1]\n",
    "    return inp"
   ]
  },
  {
   "cell_type": "code",
   "execution_count": 20,
   "id": "f09f749c",
   "metadata": {},
   "outputs": [
    {
     "name": "stdout",
     "output_type": "stream",
     "text": [
      "110101\n"
     ]
    }
   ],
   "source": [
    " print (right_shift('101011','1'))"
   ]
  },
  {
   "cell_type": "code",
   "execution_count": 21,
   "id": "1529b07d",
   "metadata": {},
   "outputs": [],
   "source": [
    "def multiply (M,Q,A,n):\n",
    "    for i in range (n):\n",
    "        c = '0'\n",
    "        if (Q[-1]=='1'):\n",
    "            A,c =addition(A,M,n)\n",
    "        right_shifted_A_Q = right_shift(A+Q, c)\n",
    "        A = right_shifted_A_Q[:n]\n",
    "        Q = right_shifted_A_Q[n:]\n",
    "       \n",
    "    return A+Q\n",
    "        "
   ]
  },
  {
   "cell_type": "code",
   "execution_count": 22,
   "id": "30721f8f",
   "metadata": {},
   "outputs": [
    {
     "name": "stdout",
     "output_type": "stream",
     "text": [
      " 0011\n",
      "*1010\n",
      "-----\n",
      " 00011110\n"
     ]
    }
   ],
   "source": [
    "mul = multiply (M,Q,A,n)\n",
    "print(' '+M)\n",
    "print('*'+Q)\n",
    "print('-'*(n+1)) \n",
    "print(' '+mul) "
   ]
  },
  {
   "cell_type": "code",
   "execution_count": null,
   "id": "d2589cf8",
   "metadata": {},
   "outputs": [],
   "source": []
  },
  {
   "cell_type": "code",
   "execution_count": null,
   "id": "86a73490",
   "metadata": {},
   "outputs": [],
   "source": []
  },
  {
   "cell_type": "code",
   "execution_count": null,
   "id": "01e67cb5",
   "metadata": {},
   "outputs": [],
   "source": []
  }
 ],
 "metadata": {
  "kernelspec": {
   "display_name": "Python 3 (ipykernel)",
   "language": "python",
   "name": "python3"
  },
  "language_info": {
   "codemirror_mode": {
    "name": "ipython",
    "version": 3
   },
   "file_extension": ".py",
   "mimetype": "text/x-python",
   "name": "python",
   "nbconvert_exporter": "python",
   "pygments_lexer": "ipython3",
   "version": "3.10.9"
  }
 },
 "nbformat": 4,
 "nbformat_minor": 5
}
