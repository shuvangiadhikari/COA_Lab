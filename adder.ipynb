{
 "cells": [
  {
   "cell_type": "code",
   "execution_count": 6,
   "id": "122e19bf",
   "metadata": {},
   "outputs": [],
   "source": [
    "def AND(num1, num2):\n",
    "    if(num1 == '1' and num2 == '1'):\n",
    "        return '1'\n",
    "    else:\n",
    "        return '0'\n",
    "    \n",
    "\n",
    "def OR(num1, num2):\n",
    "    if(num1 == '1' or num2 == '1'):\n",
    "        return '1'\n",
    "    else:\n",
    "        return '0'\n",
    "    \n",
    "def NOT(num1):\n",
    "    if(num1 == '0'):\n",
    "        return '1'\n",
    "    else:\n",
    "        return '0'\n",
    "    \n",
    "def XOR(num1, num2):\n",
    "    if(num1 == num2):\n",
    "        return '0'\n",
    "    else:\n",
    "        return '1'"
   ]
  },
  {
   "cell_type": "code",
   "execution_count": 7,
   "id": "aa492aba",
   "metadata": {},
   "outputs": [
    {
     "name": "stdout",
     "output_type": "stream",
     "text": [
      "Enter the number of bits:4\n",
      "Enter the first number:1000\n",
      "Enter the second number:1010\n"
     ]
    }
   ],
   "source": [
    "n = int(input('Enter the number of bits:'))\n",
    "num_1=input('Enter the first number:')\n",
    "num_1=num_1.zfill(n)\n",
    "reverse_num1=num_1[::-1]\n",
    "num_2=input('Enter the second number:')\n",
    "num_2=num_2.zfill(n)\n",
    "reverse_num2=num_2[::-1]"
   ]
  },
  {
   "cell_type": "code",
   "execution_count": 8,
   "id": "42c53814",
   "metadata": {},
   "outputs": [],
   "source": [
    "cin='0'\n",
    "sum=''\n"
   ]
  },
  {
   "cell_type": "code",
   "execution_count": 9,
   "id": "b58bb4da",
   "metadata": {},
   "outputs": [
    {
     "name": "stdout",
     "output_type": "stream",
     "text": [
      "0010\n"
     ]
    }
   ],
   "source": [
    "for i in range(0,n):\n",
    "    sum = sum + XOR(XOR(reverse_num1[i],reverse_num2[i]),cin)\n",
    "    intermediate_xor = XOR(reverse_num1[i], reverse_num2[i])\n",
    "    intermediate_and = AND(reverse_num1[i], reverse_num2[i])\n",
    "    cin = OR(intermediate_and, AND(intermediate_xor,cin))\n",
    "sum=sum[::-1]\n",
    "print(sum)"
   ]
  },
  {
   "cell_type": "code",
   "execution_count": 10,
   "id": "b25b6704",
   "metadata": {},
   "outputs": [
    {
     "name": "stdout",
     "output_type": "stream",
     "text": [
      " 1000\n",
      "+1010\n",
      "-----\n",
      "10010\n"
     ]
    }
   ],
   "source": [
    "print(' '+num_1)\n",
    "print('+'+num_2)\n",
    "print('-'*(n+1)) \n",
    "print(cin+sum)"
   ]
  },
  {
   "cell_type": "code",
   "execution_count": null,
   "id": "8ad61fef",
   "metadata": {},
   "outputs": [],
   "source": []
  }
 ],
 "metadata": {
  "kernelspec": {
   "display_name": "Python 3 (ipykernel)",
   "language": "python",
   "name": "python3"
  },
  "language_info": {
   "codemirror_mode": {
    "name": "ipython",
    "version": 3
   },
   "file_extension": ".py",
   "mimetype": "text/x-python",
   "name": "python",
   "nbconvert_exporter": "python",
   "pygments_lexer": "ipython3",
   "version": "3.10.9"
  }
 },
 "nbformat": 4,
 "nbformat_minor": 5
}
