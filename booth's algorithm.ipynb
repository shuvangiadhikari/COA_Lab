{
 "cells": [
  {
   "cell_type": "markdown",
   "id": "341accfd",
   "metadata": {},
   "source": [
    "## Importing file 'addSub' which contains the add and subtract functions"
   ]
  },
  {
   "cell_type": "code",
   "execution_count": 37,
   "id": "4575dbe5",
   "metadata": {},
   "outputs": [],
   "source": [
    "%run addSub.ipynb"
   ]
  },
  {
   "cell_type": "code",
   "execution_count": 38,
   "id": "5ec9ad8f",
   "metadata": {},
   "outputs": [
    {
     "name": "stdout",
     "output_type": "stream",
     "text": [
      "00001111\n"
     ]
    }
   ],
   "source": [
    "print(addition('1010','0101', 8))"
   ]
  },
  {
   "cell_type": "code",
   "execution_count": 39,
   "id": "2b639698",
   "metadata": {},
   "outputs": [
    {
     "name": "stdout",
     "output_type": "stream",
     "text": [
      "1110\n"
     ]
    }
   ],
   "source": [
    "print(SUB('1000','1010'))"
   ]
  },
  {
   "cell_type": "code",
   "execution_count": 29,
   "id": "b5409dfb",
   "metadata": {
    "scrolled": true
   },
   "outputs": [
    {
     "name": "stdout",
     "output_type": "stream",
     "text": [
      "1\n",
      "0\n",
      "1001\n"
     ]
    }
   ],
   "source": [
    "q = '10010'\n",
    "print (q[0])\n",
    "print (q[-1])\n",
    "print (q[:4])"
   ]
  },
  {
   "cell_type": "code",
   "execution_count": 43,
   "id": "9fb82a2b",
   "metadata": {},
   "outputs": [
    {
     "name": "stdout",
     "output_type": "stream",
     "text": [
      "Enter the number of bits: 4\n",
      "Enter the Multiplicand: 1011\n",
      "M = 1011\n",
      "Enter the Multiplier: 0100\n",
      "Q = 0100\n",
      "A = 0000\n"
     ]
    }
   ],
   "source": [
    "n = int(input(\"Enter the number of bits: \"))\n",
    "#--------------------------------------------------------------------\n",
    "M = input(\"Enter the Multiplicand: \")\n",
    "M = M.zfill(n)\n",
    "print(f\"M = {M}\")\n",
    "#--------------------------------------------------------------------\n",
    "Q = input(\"Enter the Multiplier: \")\n",
    "Q = Q.zfill(n)\n",
    "print(f\"Q = {Q}\")\n",
    "#--------------------------------------------------------------------\n",
    "\n",
    "A = '0' * n\n",
    "print(f\"A = {A}\")\n",
    "\n",
    "Q1 = '0'\n"
   ]
  },
  {
   "cell_type": "markdown",
   "id": "1cdd7aa5",
   "metadata": {},
   "source": [
    "# BOOTH'S ALGORITHMN"
   ]
  },
  {
   "cell_type": "code",
   "execution_count": 44,
   "id": "60ca9089",
   "metadata": {},
   "outputs": [
    {
     "name": "stdout",
     "output_type": "stream",
     "text": [
      "Initially: 1011 0100 0\n",
      "Step 0\n",
      "0000 0010 0\n",
      "Step 1\n",
      "0000 0001 0\n",
      "Step 2\n",
      "0101 0001 0\n",
      "0010 1000 1\n",
      "Step 3\n",
      "1101 1000 1\n",
      "1110 1100 0\n"
     ]
    }
   ],
   "source": [
    "print('Initially:', M, Q, Q1)\n",
    "\n",
    "n = len(Q)  # Length of the numbers\n",
    "\n",
    "A = '0' * n  # Initialize A as a string\n",
    "\n",
    "for i in range(n):\n",
    "    print('Step', i)\n",
    "    if Q[-1] == '1' and Q1 == '0':\n",
    "        A = SUB(A, M)\n",
    "       # A = A[:-1] + '1'  # Replace the least significant bit of A with '1'\n",
    "        print(A, Q, Q1)\n",
    "    elif Q[-1] == '0' and Q1 == '1':\n",
    "        A = addition (A,M, n)\n",
    "        #A = A[:-1] + '0'  # Replace the least significant bit of A with '0'\n",
    "        print(A, Q, Q1)\n",
    "\n",
    "    Q1 = Q[-1]\n",
    "    Q = A[-1] + Q[:n-1]  # Right-shift Q\n",
    "    A = A[0] + A[:n-1]  # Right-shift A\n",
    "\n",
    "    print(A, Q, Q1)\n",
    "    \n"
   ]
  },
  {
   "cell_type": "code",
   "execution_count": null,
   "id": "7102aad5",
   "metadata": {},
   "outputs": [],
   "source": []
  }
 ],
 "metadata": {
  "kernelspec": {
   "display_name": "Python 3 (ipykernel)",
   "language": "python",
   "name": "python3"
  },
  "language_info": {
   "codemirror_mode": {
    "name": "ipython",
    "version": 3
   },
   "file_extension": ".py",
   "mimetype": "text/x-python",
   "name": "python",
   "nbconvert_exporter": "python",
   "pygments_lexer": "ipython3",
   "version": "3.10.9"
  }
 },
 "nbformat": 4,
 "nbformat_minor": 5
}
