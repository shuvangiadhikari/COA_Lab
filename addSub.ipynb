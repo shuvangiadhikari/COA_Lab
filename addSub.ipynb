{
 "cells": [
  {
   "cell_type": "code",
   "execution_count": 1,
   "id": "f55f4fc0",
   "metadata": {},
   "outputs": [],
   "source": [
    "def AND(input1, input2):\n",
    "    if(input1 == '1' and input2 == '1'):\n",
    "        return '1'\n",
    "    else:\n",
    "        return '0'\n",
    "    \n",
    "    \n",
    "def OR(input1, input2):\n",
    "    if(input1 == '1' or input2 == '1'):\n",
    "        return '1'\n",
    "    else:\n",
    "        return '0'\n",
    "    \n",
    "    \n",
    "def NOT(input1):\n",
    "    if(input1 == '0'):\n",
    "        return '1'\n",
    "    else:\n",
    "        return '0'\n",
    "    \n",
    "    \n",
    "def XOR(input1, input2):\n",
    "    if(input1 == input2):\n",
    "        return '0'\n",
    "    else:\n",
    "        return '1'\n",
    "    \n",
    "    \n",
    "def addition(num1, num2, n):\n",
    "    num1 = num1.zfill(n)\n",
    "    num2 = num2.zfill(n)\n",
    "    reversed_num1 = num1[::-1]\n",
    "    reversed_num2 = num2[::-1]\n",
    "    cin = '0' # initial carry in = 0\n",
    "    SUM = ''\n",
    "    for i in range(n):\n",
    "        SUM = SUM + XOR(XOR(reversed_num1[i],reversed_num2[i]),cin)\n",
    "        intermediate_xor = XOR(reversed_num1[i], reversed_num2[i])\n",
    "        intermediate_and = AND(reversed_num1[i], reversed_num2[i])\n",
    "        cin = OR(intermediate_and, AND(intermediate_xor,cin))\n",
    "#     cin = OR(AND(reversed_num1[i],reversed_num2[i]),AND(XOR(reversed_num1[i],reversed_num2[i]),cin))\n",
    "\n",
    "    SUM = SUM[::-1]\n",
    "    return SUM"
   ]
  },
  {
   "cell_type": "code",
   "execution_count": 4,
   "id": "36131de2",
   "metadata": {},
   "outputs": [],
   "source": [
    "def SUB(num_1,num_2):\n",
    "    n=len(num_1)\n",
    "    ones_comp=''\n",
    "    for bit in num_2:\n",
    "        if bit=='0':\n",
    "            ones_comp+='1'\n",
    "        else:\n",
    "            ones_comp+='0'\n",
    "    twos_comp=bin(int(ones_comp,2)+1)[2:]#slices the first two character 0b\n",
    "    if (len(twos_comp)<len(num_2)):\n",
    "        twos_comp='0'*(len(num_2)-len(twos_comp))+twos_comp\n",
    "    reverse_num1=num_1[::-1]\n",
    "    reverse_twoscomp=twos_comp[::-1]\n",
    "    cin='0'\n",
    "    SUM =''\n",
    "    for i in range(0,n):\n",
    "        SUM= SUM + XOR(XOR(reverse_num1[i],reverse_twoscomp[i]),cin)\n",
    "        intermediate_xor = XOR(reverse_num1[i], reverse_twoscomp[i])\n",
    "        intermediate_and = AND(reverse_num1[i], reverse_twoscomp[i])\n",
    "        cin = OR(intermediate_and, AND(intermediate_xor,cin))\n",
    "    SUM=SUM[::-1]\n",
    "    \n",
    "    return SUM"
   ]
  },
  {
   "cell_type": "code",
   "execution_count": null,
   "id": "17cb3ecc",
   "metadata": {},
   "outputs": [],
   "source": []
  }
 ],
 "metadata": {
  "kernelspec": {
   "display_name": "Python 3 (ipykernel)",
   "language": "python",
   "name": "python3"
  },
  "language_info": {
   "codemirror_mode": {
    "name": "ipython",
    "version": 3
   },
   "file_extension": ".py",
   "mimetype": "text/x-python",
   "name": "python",
   "nbconvert_exporter": "python",
   "pygments_lexer": "ipython3",
   "version": "3.10.9"
  }
 },
 "nbformat": 4,
 "nbformat_minor": 5
}
