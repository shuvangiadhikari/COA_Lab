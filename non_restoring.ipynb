{
 "cells": [
  {
   "cell_type": "code",
   "execution_count": 7,
   "id": "c9e8c6e0",
   "metadata": {},
   "outputs": [],
   "source": [
    "%run addSub.ipynb"
   ]
  },
  {
   "cell_type": "code",
   "execution_count": 8,
   "id": "2dde2eac",
   "metadata": {},
   "outputs": [
    {
     "name": "stdout",
     "output_type": "stream",
     "text": [
      "Enter the number of bits: 4\n",
      "Enter the divisor: 101\n",
      "M = 00101\n",
      "Enter the Dividend: 1011\n",
      "Q = 1011\n",
      "A = 00000\n"
     ]
    }
   ],
   "source": [
    "n = int(input(\"Enter the number of bits: \"))\n",
    "#--------------------------------------------------------------------\n",
    "M = input(\"Enter the divisor: \")\n",
    "M = '0' + M.zfill(n)\n",
    "print(f\"M = {M}\")\n",
    "#--------------------------------------------------------------------\n",
    "Q = input(\"Enter the Dividend: \")\n",
    "Q = Q.zfill(n)\n",
    "print(f\"Q = {Q}\")\n",
    "#--------------------------------------------------------------------\n",
    "\n",
    "A = '0' * (n+1)\n",
    "print(f\"A = {A}\")\n"
   ]
  },
  {
   "cell_type": "code",
   "execution_count": 9,
   "id": "1907bdd9",
   "metadata": {},
   "outputs": [],
   "source": [
    "def left_shift( A , Q):\n",
    "    A = A[1:] + Q[0]\n",
    "    Q = Q[1:] + '_'\n",
    "    return A, Q"
   ]
  },
  {
   "cell_type": "code",
   "execution_count": 10,
   "id": "f42438bb",
   "metadata": {},
   "outputs": [
    {
     "name": "stdout",
     "output_type": "stream",
     "text": [
      "Initially: 00000 1011\n",
      "Step 0\n",
      "After left shift: 00001 011_\n",
      "A= A-M as A>0  11100 011_\n",
      "Set Qo= 0 as A<0: 11100 0110\n",
      "Step 1\n",
      "After left shift: 11000 110_\n",
      "A= A+M as A<0  11101 110_\n",
      "Set Qo= 0 as A<0: 11101 1100\n",
      "Step 2\n",
      "After left shift: 11011 100_\n",
      "A= A+M as A<0  00000 100_\n",
      "Set Qo= 1 as A>0: 00000 1001\n",
      "Step 3\n",
      "After left shift: 00001 001_\n",
      "A= A-M as A>0  11100 001_\n",
      "Set Qo= 0 as A<0: 11100 0010\n",
      "Reminder: 00001 Quotient: 0010\n"
     ]
    }
   ],
   "source": [
    "print('Initially:', A, Q)\n",
    "\n",
    "count = n; \n",
    "while(count):\n",
    "    print('Step', n-count)\n",
    "    A , Q = left_shift(A, Q)\n",
    "    print ('After left shift:', A, Q)\n",
    "    \n",
    "    if A[0]== '1':\n",
    "        A = addition (A,M,n+1)\n",
    "        print('A= A+M as A<0 ', A, Q)\n",
    "    elif A[0] == '0':\n",
    "        A = SUB (A, M)\n",
    "        print('A= A-M as A>0 ', A, Q)\n",
    "        \n",
    "    if A[0]== '1':\n",
    "        Q = list(Q)  # Convert Q from string to list\n",
    "        Q[-1] = '0'   # Modify the first character\n",
    "        Q = ''.join(Q)  # Convert Q back to a string\n",
    "        print('Set Qo= 0 as A<0:', A, Q)\n",
    "       \n",
    "        \n",
    "    elif A[0] == '0':\n",
    "        Q = list(Q)  # Convert Q from string to list\n",
    "        Q[-1] = '1'   # Modify the first character\n",
    "        Q = ''.join(Q)  # Convert Q back to a string\n",
    "        print ('Set Qo= 1 as A>0:', A, Q)\n",
    "        \n",
    "    count = count -1\n",
    "\n",
    "if A[0] == '1':\n",
    "    A = addition (A,M,n+1)\n",
    "    \n",
    "print('Reminder:', A, 'Quotient:', Q)\n"
   ]
  },
  {
   "cell_type": "code",
   "execution_count": null,
   "id": "8b218c9e",
   "metadata": {},
   "outputs": [],
   "source": []
  }
 ],
 "metadata": {
  "kernelspec": {
   "display_name": "Python 3 (ipykernel)",
   "language": "python",
   "name": "python3"
  },
  "language_info": {
   "codemirror_mode": {
    "name": "ipython",
    "version": 3
   },
   "file_extension": ".py",
   "mimetype": "text/x-python",
   "name": "python",
   "nbconvert_exporter": "python",
   "pygments_lexer": "ipython3",
   "version": "3.10.9"
  }
 },
 "nbformat": 4,
 "nbformat_minor": 5
}
