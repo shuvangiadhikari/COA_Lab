{
 "cells": [
  {
   "cell_type": "code",
   "execution_count": 43,
   "id": "33ed2269",
   "metadata": {},
   "outputs": [],
   "source": [
    "%run addSub.ipynb"
   ]
  },
  {
   "cell_type": "markdown",
   "id": "22170046",
   "metadata": {},
   "source": [
    "# Taking input\n",
    "\n",
    "'A' must contain (n+1) number of '0's\n",
    "'M' must contain (n+1) bits"
   ]
  },
  {
   "cell_type": "code",
   "execution_count": 44,
   "id": "d14e966d",
   "metadata": {},
   "outputs": [
    {
     "name": "stdout",
     "output_type": "stream",
     "text": [
      "Enter the number of bits: 4\n",
      "Enter the divisor: 11\n",
      "M = 00011\n",
      "Enter the Dividend: 1010\n",
      "Q = 1010\n",
      "A = 00000\n"
     ]
    }
   ],
   "source": [
    "n = int(input(\"Enter the number of bits: \"))\n",
    "#--------------------------------------------------------------------\n",
    "M = input(\"Enter the divisor: \")\n",
    "M = '0' + M.zfill(n)\n",
    "print(f\"M = {M}\")\n",
    "#--------------------------------------------------------------------\n",
    "Q = input(\"Enter the Dividend: \")\n",
    "Q = Q.zfill(n)\n",
    "print(f\"Q = {Q}\")\n",
    "#--------------------------------------------------------------------\n",
    "\n",
    "A = '0' * (n+1)\n",
    "print(f\"A = {A}\")\n",
    "\n",
    "\n"
   ]
  },
  {
   "cell_type": "code",
   "execution_count": 45,
   "id": "eed5d4f1",
   "metadata": {},
   "outputs": [],
   "source": [
    "def left_shift( A , Q):\n",
    "    A = A[1:] + Q[0]\n",
    "    Q = Q[1:] + '_'\n",
    "    return A, Q"
   ]
  },
  {
   "cell_type": "code",
   "execution_count": 46,
   "id": "63e7634a",
   "metadata": {},
   "outputs": [
    {
     "name": "stdout",
     "output_type": "stream",
     "text": [
      "Initially: 00000 1010\n",
      "Step 0\n",
      "After left shift: 00001 010_\n",
      "A= A-M:  11110 010_\n",
      "Set Qo= 0 as A<0: 11110 0100\n",
      "Restore A: 00001 0100\n",
      "Reminder: 00001 Quotient: 0100\n",
      "Step 1\n",
      "After left shift: 00010 100_\n",
      "A= A-M:  11111 100_\n",
      "Set Qo= 0 as A<0: 11111 1000\n",
      "Restore A: 00010 1000\n",
      "Reminder: 00010 Quotient: 1000\n",
      "Step 2\n",
      "After left shift: 00101 000_\n",
      "A= A-M:  00010 000_\n",
      "Set Qo= 1 as A>0: 00010 0001\n",
      "Reminder: 00010 Quotient: 0001\n",
      "Step 3\n",
      "After left shift: 00100 001_\n",
      "A= A-M:  00001 001_\n",
      "Set Qo= 1 as A>0: 00001 0011\n",
      "Reminder: 00001 Quotient: 0011\n"
     ]
    }
   ],
   "source": [
    "print('Initially:', A, Q)\n",
    "\n",
    "for i in range (n):\n",
    "    print('Step', i)\n",
    "    A , Q = left_shift(A, Q)\n",
    "    print ('After left shift:', A, Q)\n",
    "    A = SUB (A, M)\n",
    "    print('A= A-M: ', A, Q)\n",
    "    \n",
    "    if A[0]== '1':\n",
    "        Q = list(Q)  # Convert Q from string to list\n",
    "        Q[-1] = '0'   # Modify the first character\n",
    "        Q = ''.join(Q)  # Convert Q back to a string\n",
    "        print('Set Qo= 0 as A<0:', A, Q)\n",
    "        A = addition (A,M,n+1)\n",
    "        print ('Restore A:', A, Q)\n",
    "        \n",
    "    elif A[0] == '0':\n",
    "        Q = list(Q)  # Convert Q from string to list\n",
    "        Q[-1] = '1'   # Modify the first character\n",
    "        Q = ''.join(Q)  # Convert Q back to a string\n",
    "        \n",
    "        print ('Set Qo= 1 as A>0:', A, Q)\n",
    "        \n",
    "    print('Reminder:', A, 'Quotient:', Q)\n",
    "\n",
    "        "
   ]
  },
  {
   "cell_type": "code",
   "execution_count": null,
   "id": "e5bd6cd0",
   "metadata": {},
   "outputs": [],
   "source": []
  }
 ],
 "metadata": {
  "kernelspec": {
   "display_name": "Python 3 (ipykernel)",
   "language": "python",
   "name": "python3"
  },
  "language_info": {
   "codemirror_mode": {
    "name": "ipython",
    "version": 3
   },
   "file_extension": ".py",
   "mimetype": "text/x-python",
   "name": "python",
   "nbconvert_exporter": "python",
   "pygments_lexer": "ipython3",
   "version": "3.10.9"
  }
 },
 "nbformat": 4,
 "nbformat_minor": 5
}
